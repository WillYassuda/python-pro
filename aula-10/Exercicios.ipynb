{
 "metadata": {
  "language_info": {
   "codemirror_mode": {
    "name": "ipython",
    "version": 3
   },
   "file_extension": ".py",
   "mimetype": "text/x-python",
   "name": "python",
   "nbconvert_exporter": "python",
   "pygments_lexer": "ipython3",
   "version": "3.6.10"
  },
  "orig_nbformat": 2,
  "kernelspec": {
   "name": "python3610jvsc74a57bd0f1322504e03e9f0baaea1ca039f4d87883c1be8d91eeec5e9bb2d51313a7c067",
   "display_name": "Python 3.6.10 64-bit ('opencv-env': conda)"
  },
  "metadata": {
   "interpreter": {
    "hash": "2b0cb1a58c37122f1dd7d8e3bfbad48a3bf241c49cd76592092b5cbb8457183a"
   }
  }
 },
 "nbformat": 4,
 "nbformat_minor": 2,
 "cells": [
  {
   "source": [
    "# *Exercícios*"
   ],
   "cell_type": "markdown",
   "metadata": {}
  },
  {
   "cell_type": "code",
   "execution_count": 1,
   "metadata": {},
   "outputs": [],
   "source": [
    "import pandas as pd"
   ]
  },
  {
   "source": [
    "## 1) Cria uma série de pandas que tenha os números inteiros de 0 a 100. Feito isso, imprima a média e o desvio padrão.\n",
    "\n"
   ],
   "cell_type": "markdown",
   "metadata": {}
  },
  {
   "cell_type": "code",
   "execution_count": 2,
   "metadata": {},
   "outputs": [
    {
     "output_type": "stream",
     "name": "stdout",
     "text": [
      "0        0\n1        1\n2        2\n3        3\n4        4\n      ... \n96      96\n97      97\n98      98\n99      99\n100    100\nLength: 101, dtype: int64\n"
     ]
    }
   ],
   "source": [
    "serie_inicial = pd.Series(range(101))\n",
    "\n",
    "print(serie_inicial)"
   ]
  },
  {
   "cell_type": "code",
   "execution_count": 4,
   "metadata": {},
   "outputs": [
    {
     "output_type": "stream",
     "name": "stdout",
     "text": [
      "O valor da média é:  50.0\n"
     ]
    }
   ],
   "source": [
    "print('O valor da média é: ', serie_inicial.mean())"
   ]
  },
  {
   "cell_type": "code",
   "execution_count": 5,
   "metadata": {},
   "outputs": [
    {
     "output_type": "execute_result",
     "data": {
      "text/plain": [
       "29.300170647967224"
      ]
     },
     "metadata": {},
     "execution_count": 5
    }
   ],
   "source": [
    "serie_inicial.std()"
   ]
  },
  {
   "source": [
    "## 2) Baixe e carregue em um pd.DataFrame o arquivo \"IBOV.csv\", que contém as cotações diárias do índice Ibovespa nos três primeiros trimestres de 2020."
   ],
   "cell_type": "markdown",
   "metadata": {}
  },
  {
   "cell_type": "code",
   "execution_count": 7,
   "metadata": {},
   "outputs": [],
   "source": [
    "df = pd.read_csv('C:\\\\Users\\\\Renata\\\\Desktop\\\\ibov.csv')"
   ]
  },
  {
   "cell_type": "code",
   "execution_count": 8,
   "metadata": {},
   "outputs": [
    {
     "output_type": "execute_result",
     "data": {
      "text/plain": [
       "           Date      Open      High       Low     Close  Adj Close      Volume\n",
       "0    2020-01-02  115652.0  118573.0  115649.0  118573.0   118573.0   5162700.0\n",
       "1    2020-01-03  118564.0  118792.0  117341.0  117707.0   117707.0   6834500.0\n",
       "2    2020-01-06  117707.0  117707.0  116269.0  116878.0   116878.0   6570000.0\n",
       "3    2020-01-07  116872.0  117076.0  115965.0  116662.0   116662.0   4854100.0\n",
       "4    2020-01-08  116667.0  117335.0  115693.0  116247.0   116247.0   5910500.0\n",
       "..          ...       ...       ...       ...       ...        ...         ...\n",
       "182  2020-09-23   97294.0   97389.0   95728.0   95735.0    95735.0   8830700.0\n",
       "183  2020-09-24   95735.0   97955.0   95653.0   97012.0    97012.0   9331000.0\n",
       "184  2020-09-25   97011.0   97012.0   95632.0   96999.0    96999.0   7351100.0\n",
       "185  2020-09-28   97005.0   98314.0   94371.0   94666.0    94666.0  10508900.0\n",
       "186  2020-09-29   94665.0   95505.0   93408.0   93580.0    93580.0   8737200.0\n",
       "\n",
       "[187 rows x 7 columns]"
      ],
      "text/html": "<div>\n<style scoped>\n    .dataframe tbody tr th:only-of-type {\n        vertical-align: middle;\n    }\n\n    .dataframe tbody tr th {\n        vertical-align: top;\n    }\n\n    .dataframe thead th {\n        text-align: right;\n    }\n</style>\n<table border=\"1\" class=\"dataframe\">\n  <thead>\n    <tr style=\"text-align: right;\">\n      <th></th>\n      <th>Date</th>\n      <th>Open</th>\n      <th>High</th>\n      <th>Low</th>\n      <th>Close</th>\n      <th>Adj Close</th>\n      <th>Volume</th>\n    </tr>\n  </thead>\n  <tbody>\n    <tr>\n      <th>0</th>\n      <td>2020-01-02</td>\n      <td>115652.0</td>\n      <td>118573.0</td>\n      <td>115649.0</td>\n      <td>118573.0</td>\n      <td>118573.0</td>\n      <td>5162700.0</td>\n    </tr>\n    <tr>\n      <th>1</th>\n      <td>2020-01-03</td>\n      <td>118564.0</td>\n      <td>118792.0</td>\n      <td>117341.0</td>\n      <td>117707.0</td>\n      <td>117707.0</td>\n      <td>6834500.0</td>\n    </tr>\n    <tr>\n      <th>2</th>\n      <td>2020-01-06</td>\n      <td>117707.0</td>\n      <td>117707.0</td>\n      <td>116269.0</td>\n      <td>116878.0</td>\n      <td>116878.0</td>\n      <td>6570000.0</td>\n    </tr>\n    <tr>\n      <th>3</th>\n      <td>2020-01-07</td>\n      <td>116872.0</td>\n      <td>117076.0</td>\n      <td>115965.0</td>\n      <td>116662.0</td>\n      <td>116662.0</td>\n      <td>4854100.0</td>\n    </tr>\n    <tr>\n      <th>4</th>\n      <td>2020-01-08</td>\n      <td>116667.0</td>\n      <td>117335.0</td>\n      <td>115693.0</td>\n      <td>116247.0</td>\n      <td>116247.0</td>\n      <td>5910500.0</td>\n    </tr>\n    <tr>\n      <th>...</th>\n      <td>...</td>\n      <td>...</td>\n      <td>...</td>\n      <td>...</td>\n      <td>...</td>\n      <td>...</td>\n      <td>...</td>\n    </tr>\n    <tr>\n      <th>182</th>\n      <td>2020-09-23</td>\n      <td>97294.0</td>\n      <td>97389.0</td>\n      <td>95728.0</td>\n      <td>95735.0</td>\n      <td>95735.0</td>\n      <td>8830700.0</td>\n    </tr>\n    <tr>\n      <th>183</th>\n      <td>2020-09-24</td>\n      <td>95735.0</td>\n      <td>97955.0</td>\n      <td>95653.0</td>\n      <td>97012.0</td>\n      <td>97012.0</td>\n      <td>9331000.0</td>\n    </tr>\n    <tr>\n      <th>184</th>\n      <td>2020-09-25</td>\n      <td>97011.0</td>\n      <td>97012.0</td>\n      <td>95632.0</td>\n      <td>96999.0</td>\n      <td>96999.0</td>\n      <td>7351100.0</td>\n    </tr>\n    <tr>\n      <th>185</th>\n      <td>2020-09-28</td>\n      <td>97005.0</td>\n      <td>98314.0</td>\n      <td>94371.0</td>\n      <td>94666.0</td>\n      <td>94666.0</td>\n      <td>10508900.0</td>\n    </tr>\n    <tr>\n      <th>186</th>\n      <td>2020-09-29</td>\n      <td>94665.0</td>\n      <td>95505.0</td>\n      <td>93408.0</td>\n      <td>93580.0</td>\n      <td>93580.0</td>\n      <td>8737200.0</td>\n    </tr>\n  </tbody>\n</table>\n<p>187 rows × 7 columns</p>\n</div>"
     },
     "metadata": {},
     "execution_count": 8
    }
   ],
   "source": [
    "df"
   ]
  },
  {
   "cell_type": "code",
   "execution_count": 9,
   "metadata": {},
   "outputs": [
    {
     "output_type": "stream",
     "name": "stdout",
     "text": [
      "<class 'pandas.core.frame.DataFrame'>\nRangeIndex: 187 entries, 0 to 186\nData columns (total 7 columns):\n #   Column     Non-Null Count  Dtype  \n---  ------     --------------  -----  \n 0   Date       187 non-null    object \n 1   Open       186 non-null    float64\n 2   High       186 non-null    float64\n 3   Low        186 non-null    float64\n 4   Close      186 non-null    float64\n 5   Adj Close  186 non-null    float64\n 6   Volume     186 non-null    float64\ndtypes: float64(6), object(1)\nmemory usage: 10.4+ KB\n"
     ]
    }
   ],
   "source": [
    "df.info()"
   ]
  },
  {
   "cell_type": "code",
   "execution_count": 10,
   "metadata": {},
   "outputs": [],
   "source": [
    "df['Date'] = pd.to_datetime(df['Date']) # transformando de objeto para timestamp(data)"
   ]
  },
  {
   "cell_type": "code",
   "execution_count": 11,
   "metadata": {},
   "outputs": [
    {
     "output_type": "stream",
     "name": "stdout",
     "text": [
      "<class 'pandas.core.frame.DataFrame'>\nRangeIndex: 187 entries, 0 to 186\nData columns (total 7 columns):\n #   Column     Non-Null Count  Dtype         \n---  ------     --------------  -----         \n 0   Date       187 non-null    datetime64[ns]\n 1   Open       186 non-null    float64       \n 2   High       186 non-null    float64       \n 3   Low        186 non-null    float64       \n 4   Close      186 non-null    float64       \n 5   Adj Close  186 non-null    float64       \n 6   Volume     186 non-null    float64       \ndtypes: datetime64[ns](1), float64(6)\nmemory usage: 10.4 KB\n"
     ]
    }
   ],
   "source": [
    "df.info()"
   ]
  },
  {
   "cell_type": "code",
   "execution_count": 12,
   "metadata": {},
   "outputs": [
    {
     "output_type": "execute_result",
     "data": {
      "text/plain": [
       "Timestamp('2020-01-02 00:00:00')"
      ]
     },
     "metadata": {},
     "execution_count": 12
    }
   ],
   "source": [
    "df['Date'].min()"
   ]
  },
  {
   "cell_type": "code",
   "execution_count": 13,
   "metadata": {},
   "outputs": [
    {
     "output_type": "execute_result",
     "data": {
      "text/plain": [
       "Timestamp('2020-09-29 00:00:00')"
      ]
     },
     "metadata": {},
     "execution_count": 13
    }
   ],
   "source": [
    "df['Date'].max()"
   ]
  },
  {
   "source": [
    "## 3) Imprima as três primeiras linhas do DataFrame carregado e depois as três últimas."
   ],
   "cell_type": "markdown",
   "metadata": {}
  },
  {
   "cell_type": "code",
   "execution_count": 16,
   "metadata": {},
   "outputs": [
    {
     "output_type": "execute_result",
     "data": {
      "text/plain": [
       "        Date      Open      High       Low     Close  Adj Close     Volume\n",
       "0 2020-01-02  115652.0  118573.0  115649.0  118573.0   118573.0  5162700.0\n",
       "1 2020-01-03  118564.0  118792.0  117341.0  117707.0   117707.0  6834500.0\n",
       "2 2020-01-06  117707.0  117707.0  116269.0  116878.0   116878.0  6570000.0"
      ],
      "text/html": "<div>\n<style scoped>\n    .dataframe tbody tr th:only-of-type {\n        vertical-align: middle;\n    }\n\n    .dataframe tbody tr th {\n        vertical-align: top;\n    }\n\n    .dataframe thead th {\n        text-align: right;\n    }\n</style>\n<table border=\"1\" class=\"dataframe\">\n  <thead>\n    <tr style=\"text-align: right;\">\n      <th></th>\n      <th>Date</th>\n      <th>Open</th>\n      <th>High</th>\n      <th>Low</th>\n      <th>Close</th>\n      <th>Adj Close</th>\n      <th>Volume</th>\n    </tr>\n  </thead>\n  <tbody>\n    <tr>\n      <th>0</th>\n      <td>2020-01-02</td>\n      <td>115652.0</td>\n      <td>118573.0</td>\n      <td>115649.0</td>\n      <td>118573.0</td>\n      <td>118573.0</td>\n      <td>5162700.0</td>\n    </tr>\n    <tr>\n      <th>1</th>\n      <td>2020-01-03</td>\n      <td>118564.0</td>\n      <td>118792.0</td>\n      <td>117341.0</td>\n      <td>117707.0</td>\n      <td>117707.0</td>\n      <td>6834500.0</td>\n    </tr>\n    <tr>\n      <th>2</th>\n      <td>2020-01-06</td>\n      <td>117707.0</td>\n      <td>117707.0</td>\n      <td>116269.0</td>\n      <td>116878.0</td>\n      <td>116878.0</td>\n      <td>6570000.0</td>\n    </tr>\n  </tbody>\n</table>\n</div>"
     },
     "metadata": {},
     "execution_count": 16
    }
   ],
   "source": [
    "# 3 primeiras linhas\n",
    "df.head(3)"
   ]
  },
  {
   "cell_type": "code",
   "execution_count": 15,
   "metadata": {},
   "outputs": [
    {
     "output_type": "execute_result",
     "data": {
      "text/plain": [
       "          Date     Open     High      Low    Close  Adj Close      Volume\n",
       "184 2020-09-25  97011.0  97012.0  95632.0  96999.0    96999.0   7351100.0\n",
       "185 2020-09-28  97005.0  98314.0  94371.0  94666.0    94666.0  10508900.0\n",
       "186 2020-09-29  94665.0  95505.0  93408.0  93580.0    93580.0   8737200.0"
      ],
      "text/html": "<div>\n<style scoped>\n    .dataframe tbody tr th:only-of-type {\n        vertical-align: middle;\n    }\n\n    .dataframe tbody tr th {\n        vertical-align: top;\n    }\n\n    .dataframe thead th {\n        text-align: right;\n    }\n</style>\n<table border=\"1\" class=\"dataframe\">\n  <thead>\n    <tr style=\"text-align: right;\">\n      <th></th>\n      <th>Date</th>\n      <th>Open</th>\n      <th>High</th>\n      <th>Low</th>\n      <th>Close</th>\n      <th>Adj Close</th>\n      <th>Volume</th>\n    </tr>\n  </thead>\n  <tbody>\n    <tr>\n      <th>184</th>\n      <td>2020-09-25</td>\n      <td>97011.0</td>\n      <td>97012.0</td>\n      <td>95632.0</td>\n      <td>96999.0</td>\n      <td>96999.0</td>\n      <td>7351100.0</td>\n    </tr>\n    <tr>\n      <th>185</th>\n      <td>2020-09-28</td>\n      <td>97005.0</td>\n      <td>98314.0</td>\n      <td>94371.0</td>\n      <td>94666.0</td>\n      <td>94666.0</td>\n      <td>10508900.0</td>\n    </tr>\n    <tr>\n      <th>186</th>\n      <td>2020-09-29</td>\n      <td>94665.0</td>\n      <td>95505.0</td>\n      <td>93408.0</td>\n      <td>93580.0</td>\n      <td>93580.0</td>\n      <td>8737200.0</td>\n    </tr>\n  </tbody>\n</table>\n</div>"
     },
     "metadata": {},
     "execution_count": 15
    }
   ],
   "source": [
    "# 3 últimas linhas\n",
    "df.tail(3)"
   ]
  },
  {
   "source": [
    "## 4) Imprima o maior e o menor valor de fechamento do índice no período analisado."
   ],
   "cell_type": "markdown",
   "metadata": {}
  },
  {
   "cell_type": "code",
   "execution_count": 17,
   "metadata": {},
   "outputs": [
    {
     "output_type": "execute_result",
     "data": {
      "text/plain": [
       "119528.0"
      ]
     },
     "metadata": {},
     "execution_count": 17
    }
   ],
   "source": [
    "# Maior valor fechamento\n",
    "df['Close'].max() # df.Close.max()"
   ]
  },
  {
   "cell_type": "code",
   "execution_count": 18,
   "metadata": {},
   "outputs": [
    {
     "output_type": "execute_result",
     "data": {
      "text/plain": [
       "63570.0"
      ]
     },
     "metadata": {},
     "execution_count": 18
    }
   ],
   "source": [
    "# Menor valor\n",
    "df['Close'].min()"
   ]
  },
  {
   "source": [
    "## 5) Qual é o dia associado à 50ª linha do DataFrame?"
   ],
   "cell_type": "markdown",
   "metadata": {}
  },
  {
   "cell_type": "code",
   "execution_count": 19,
   "metadata": {},
   "outputs": [
    {
     "output_type": "execute_result",
     "data": {
      "text/plain": [
       "         Date     Open     High      Low    Close  Adj Close      Volume\n",
       "50 2020-03-16  82565.0  82565.0  70855.0  71168.0    71168.0  12847800.0"
      ],
      "text/html": "<div>\n<style scoped>\n    .dataframe tbody tr th:only-of-type {\n        vertical-align: middle;\n    }\n\n    .dataframe tbody tr th {\n        vertical-align: top;\n    }\n\n    .dataframe thead th {\n        text-align: right;\n    }\n</style>\n<table border=\"1\" class=\"dataframe\">\n  <thead>\n    <tr style=\"text-align: right;\">\n      <th></th>\n      <th>Date</th>\n      <th>Open</th>\n      <th>High</th>\n      <th>Low</th>\n      <th>Close</th>\n      <th>Adj Close</th>\n      <th>Volume</th>\n    </tr>\n  </thead>\n  <tbody>\n    <tr>\n      <th>50</th>\n      <td>2020-03-16</td>\n      <td>82565.0</td>\n      <td>82565.0</td>\n      <td>70855.0</td>\n      <td>71168.0</td>\n      <td>71168.0</td>\n      <td>12847800.0</td>\n    </tr>\n  </tbody>\n</table>\n</div>"
     },
     "metadata": {},
     "execution_count": 19
    }
   ],
   "source": [
    "df[50:51] "
   ]
  },
  {
   "cell_type": "code",
   "execution_count": 20,
   "metadata": {},
   "outputs": [
    {
     "output_type": "execute_result",
     "data": {
      "text/plain": [
       "Timestamp('2020-03-16 00:00:00')"
      ]
     },
     "metadata": {},
     "execution_count": 20
    }
   ],
   "source": [
    "df.loc[50, 'Date']"
   ]
  },
  {
   "source": [
    "## 6) Compare a média do valor de fechamento do índice entre o primeiro e o segundo trimestre do ano estudado. Em qual dos períodos verifica-se maior média?"
   ],
   "cell_type": "markdown",
   "metadata": {}
  },
  {
   "cell_type": "code",
   "execution_count": 22,
   "metadata": {},
   "outputs": [
    {
     "output_type": "execute_result",
     "data": {
      "text/plain": [
       "         Date      Open      High       Low     Close  Adj Close      Volume\n",
       "0  2020-01-02  115652.0  118573.0  115649.0  118573.0   118573.0   5162700.0\n",
       "1  2020-01-03  118564.0  118792.0  117341.0  117707.0   117707.0   6834500.0\n",
       "2  2020-01-06  117707.0  117707.0  116269.0  116878.0   116878.0   6570000.0\n",
       "3  2020-01-07  116872.0  117076.0  115965.0  116662.0   116662.0   4854100.0\n",
       "4  2020-01-08  116667.0  117335.0  115693.0  116247.0   116247.0   5910500.0\n",
       "..        ...       ...       ...       ...       ...        ...         ...\n",
       "57 2020-03-25   69727.0   76714.0   69360.0   74956.0    74956.0  12951100.0\n",
       "58 2020-03-26   74956.0   78846.0   74923.0   77710.0    77710.0  12758000.0\n",
       "59 2020-03-27   77708.0   77708.0   73057.0   73429.0    73429.0  10301400.0\n",
       "60 2020-03-30   73431.0   75430.0   73184.0   74640.0    74640.0   9032200.0\n",
       "61 2020-03-31   74629.0   75511.0   72385.0   73020.0    73020.0  11141500.0\n",
       "\n",
       "[62 rows x 7 columns]"
      ],
      "text/html": "<div>\n<style scoped>\n    .dataframe tbody tr th:only-of-type {\n        vertical-align: middle;\n    }\n\n    .dataframe tbody tr th {\n        vertical-align: top;\n    }\n\n    .dataframe thead th {\n        text-align: right;\n    }\n</style>\n<table border=\"1\" class=\"dataframe\">\n  <thead>\n    <tr style=\"text-align: right;\">\n      <th></th>\n      <th>Date</th>\n      <th>Open</th>\n      <th>High</th>\n      <th>Low</th>\n      <th>Close</th>\n      <th>Adj Close</th>\n      <th>Volume</th>\n    </tr>\n  </thead>\n  <tbody>\n    <tr>\n      <th>0</th>\n      <td>2020-01-02</td>\n      <td>115652.0</td>\n      <td>118573.0</td>\n      <td>115649.0</td>\n      <td>118573.0</td>\n      <td>118573.0</td>\n      <td>5162700.0</td>\n    </tr>\n    <tr>\n      <th>1</th>\n      <td>2020-01-03</td>\n      <td>118564.0</td>\n      <td>118792.0</td>\n      <td>117341.0</td>\n      <td>117707.0</td>\n      <td>117707.0</td>\n      <td>6834500.0</td>\n    </tr>\n    <tr>\n      <th>2</th>\n      <td>2020-01-06</td>\n      <td>117707.0</td>\n      <td>117707.0</td>\n      <td>116269.0</td>\n      <td>116878.0</td>\n      <td>116878.0</td>\n      <td>6570000.0</td>\n    </tr>\n    <tr>\n      <th>3</th>\n      <td>2020-01-07</td>\n      <td>116872.0</td>\n      <td>117076.0</td>\n      <td>115965.0</td>\n      <td>116662.0</td>\n      <td>116662.0</td>\n      <td>4854100.0</td>\n    </tr>\n    <tr>\n      <th>4</th>\n      <td>2020-01-08</td>\n      <td>116667.0</td>\n      <td>117335.0</td>\n      <td>115693.0</td>\n      <td>116247.0</td>\n      <td>116247.0</td>\n      <td>5910500.0</td>\n    </tr>\n    <tr>\n      <th>...</th>\n      <td>...</td>\n      <td>...</td>\n      <td>...</td>\n      <td>...</td>\n      <td>...</td>\n      <td>...</td>\n      <td>...</td>\n    </tr>\n    <tr>\n      <th>57</th>\n      <td>2020-03-25</td>\n      <td>69727.0</td>\n      <td>76714.0</td>\n      <td>69360.0</td>\n      <td>74956.0</td>\n      <td>74956.0</td>\n      <td>12951100.0</td>\n    </tr>\n    <tr>\n      <th>58</th>\n      <td>2020-03-26</td>\n      <td>74956.0</td>\n      <td>78846.0</td>\n      <td>74923.0</td>\n      <td>77710.0</td>\n      <td>77710.0</td>\n      <td>12758000.0</td>\n    </tr>\n    <tr>\n      <th>59</th>\n      <td>2020-03-27</td>\n      <td>77708.0</td>\n      <td>77708.0</td>\n      <td>73057.0</td>\n      <td>73429.0</td>\n      <td>73429.0</td>\n      <td>10301400.0</td>\n    </tr>\n    <tr>\n      <th>60</th>\n      <td>2020-03-30</td>\n      <td>73431.0</td>\n      <td>75430.0</td>\n      <td>73184.0</td>\n      <td>74640.0</td>\n      <td>74640.0</td>\n      <td>9032200.0</td>\n    </tr>\n    <tr>\n      <th>61</th>\n      <td>2020-03-31</td>\n      <td>74629.0</td>\n      <td>75511.0</td>\n      <td>72385.0</td>\n      <td>73020.0</td>\n      <td>73020.0</td>\n      <td>11141500.0</td>\n    </tr>\n  </tbody>\n</table>\n<p>62 rows × 7 columns</p>\n</div>"
     },
     "metadata": {},
     "execution_count": 22
    }
   ],
   "source": [
    "# selecionar primeiro trimestre\n",
    "df[df['Date'] < '2020-04-01'] # OU\n",
    "df.loc[df['Date'] < '2020-04-01']"
   ]
  },
  {
   "source": [
    "valor de fechamento do primeiro trimestre"
   ],
   "cell_type": "markdown",
   "metadata": {}
  },
  {
   "cell_type": "code",
   "execution_count": 25,
   "metadata": {},
   "outputs": [
    {
     "output_type": "execute_result",
     "data": {
      "text/plain": [
       "103236.24590163934"
      ]
     },
     "metadata": {},
     "execution_count": 25
    }
   ],
   "source": [
    "# df[df['Date'] < '2020-04-01']['Close'].mean() #OU\n",
    "\n",
    "df_1trim =  df.loc[df['Date'] < '2020-04-01']\n",
    "df_1trim['Close'].mean()"
   ]
  },
  {
   "source": [
    "valor de fehamento do segundo trimestre"
   ],
   "cell_type": "markdown",
   "metadata": {}
  },
  {
   "cell_type": "code",
   "execution_count": 27,
   "metadata": {},
   "outputs": [
    {
     "output_type": "stream",
     "name": "stdout",
     "text": [
      "84658.75409836066\n"
     ]
    }
   ],
   "source": [
    "# df[(df['Date'] >= '2020-04-01')&(df['Date'] < '2020-07-01')]['Close'].mean() # OU\n",
    "\n",
    "df_2trim = df.loc[(df['Date'] >= '2020-04-01') & (df['Date'] < '2020-07-01')]\n",
    "media_2trim = df_2trim['Close'].mean()\n",
    "print(media_2trim)\n",
    "\n"
   ]
  },
  {
   "source": [
    "## 7 ) Acrescente uma coluna ao DataFrame chamada 'amplitude', contendo a variação máxima diária, isto é, valor máximo - valor mínimo. Imprima a linha onde se teve a maior variação do índice e depois salve o DataFrame modificado no arquivo \"BVSP_mod.csv\"."
   ],
   "cell_type": "markdown",
   "metadata": {}
  },
  {
   "cell_type": "code",
   "execution_count": 28,
   "metadata": {},
   "outputs": [],
   "source": [
    "# criando a coluna\n",
    "df['amplitude'] = df['High'] - df['Low']"
   ]
  },
  {
   "cell_type": "code",
   "execution_count": 29,
   "metadata": {},
   "outputs": [
    {
     "output_type": "execute_result",
     "data": {
      "text/plain": [
       "16615.0"
      ]
     },
     "metadata": {},
     "execution_count": 29
    }
   ],
   "source": [
    "df['amplitude'].max() # variação máxima"
   ]
  },
  {
   "cell_type": "code",
   "execution_count": 30,
   "metadata": {},
   "outputs": [
    {
     "output_type": "execute_result",
     "data": {
      "text/plain": [
       "         Date     Open     High      Low    Close  Adj Close      Volume  \\\n",
       "48 2020-03-12  85103.0  85103.0  68488.0  72583.0    72583.0  12008700.0   \n",
       "\n",
       "    amplitude  \n",
       "48    16615.0  "
      ],
      "text/html": "<div>\n<style scoped>\n    .dataframe tbody tr th:only-of-type {\n        vertical-align: middle;\n    }\n\n    .dataframe tbody tr th {\n        vertical-align: top;\n    }\n\n    .dataframe thead th {\n        text-align: right;\n    }\n</style>\n<table border=\"1\" class=\"dataframe\">\n  <thead>\n    <tr style=\"text-align: right;\">\n      <th></th>\n      <th>Date</th>\n      <th>Open</th>\n      <th>High</th>\n      <th>Low</th>\n      <th>Close</th>\n      <th>Adj Close</th>\n      <th>Volume</th>\n      <th>amplitude</th>\n    </tr>\n  </thead>\n  <tbody>\n    <tr>\n      <th>48</th>\n      <td>2020-03-12</td>\n      <td>85103.0</td>\n      <td>85103.0</td>\n      <td>68488.0</td>\n      <td>72583.0</td>\n      <td>72583.0</td>\n      <td>12008700.0</td>\n      <td>16615.0</td>\n    </tr>\n  </tbody>\n</table>\n</div>"
     },
     "metadata": {},
     "execution_count": 30
    }
   ],
   "source": [
    "#linha com maior variação\n",
    "# df[df['amplitude']==df['amplitude'].max()] #OU\n",
    "\n",
    "df.loc[df['amplitude'] == 16615]"
   ]
  },
  {
   "cell_type": "code",
   "execution_count": 31,
   "metadata": {},
   "outputs": [],
   "source": [
    "df.to_csv('BVSP_mod.csv') \n",
    "df.to_csv('C:/Users/Renata/Desktop/BVSP_mod.csv') "
   ]
  },
  {
   "source": [
    "## 8) Reparta o conjunto de dados em cada trimestre. Faça um gráfico de dispersão de tamanho (15,2) do valor de fechamento por dia para cada um dos trimestres, salvando cada um dos gráficos em uma imagem com o nome \"tri_x.png\", onde x é o trimestre em questão.\n",
    "\n",
    "Sugestão/desafio: se você não quiser copiar/colar o código de criação do gráfico para cada trimestre, tente criar uma função que recebe o DataFrame de cada trimestre, o número do trimestre em questão e plote o gráfico, além de salvar o arquivo com o nome correo."
   ],
   "cell_type": "markdown",
   "metadata": {}
  },
  {
   "cell_type": "code",
   "execution_count": 25,
   "metadata": {},
   "outputs": [
    {
     "output_type": "execute_result",
     "data": {
      "text/plain": [
       "          Date      Open      High       Low     Close  Adj Close      Volume  \\\n",
       "0   2020-01-02  115652.0  118573.0  115649.0  118573.0   118573.0   5162700.0   \n",
       "1   2020-01-03  118564.0  118792.0  117341.0  117707.0   117707.0   6834500.0   \n",
       "2   2020-01-06  117707.0  117707.0  116269.0  116878.0   116878.0   6570000.0   \n",
       "3   2020-01-07  116872.0  117076.0  115965.0  116662.0   116662.0   4854100.0   \n",
       "4   2020-01-08  116667.0  117335.0  115693.0  116247.0   116247.0   5910500.0   \n",
       "..         ...       ...       ...       ...       ...        ...         ...   \n",
       "182 2020-09-23   97294.0   97389.0   95728.0   95735.0    95735.0   8830700.0   \n",
       "183 2020-09-24   95735.0   97955.0   95653.0   97012.0    97012.0   9331000.0   \n",
       "184 2020-09-25   97011.0   97012.0   95632.0   96999.0    96999.0   7351100.0   \n",
       "185 2020-09-28   97005.0   98314.0   94371.0   94666.0    94666.0  10508900.0   \n",
       "186 2020-09-29   94665.0   95505.0   93408.0   93580.0    93580.0   8737200.0   \n",
       "\n",
       "     amplitude  \n",
       "0       2924.0  \n",
       "1       1451.0  \n",
       "2       1438.0  \n",
       "3       1111.0  \n",
       "4       1642.0  \n",
       "..         ...  \n",
       "182     1661.0  \n",
       "183     2302.0  \n",
       "184     1380.0  \n",
       "185     3943.0  \n",
       "186     2097.0  \n",
       "\n",
       "[187 rows x 8 columns]"
      ],
      "text/html": "<div>\n<style scoped>\n    .dataframe tbody tr th:only-of-type {\n        vertical-align: middle;\n    }\n\n    .dataframe tbody tr th {\n        vertical-align: top;\n    }\n\n    .dataframe thead th {\n        text-align: right;\n    }\n</style>\n<table border=\"1\" class=\"dataframe\">\n  <thead>\n    <tr style=\"text-align: right;\">\n      <th></th>\n      <th>Date</th>\n      <th>Open</th>\n      <th>High</th>\n      <th>Low</th>\n      <th>Close</th>\n      <th>Adj Close</th>\n      <th>Volume</th>\n      <th>amplitude</th>\n    </tr>\n  </thead>\n  <tbody>\n    <tr>\n      <th>0</th>\n      <td>2020-01-02</td>\n      <td>115652.0</td>\n      <td>118573.0</td>\n      <td>115649.0</td>\n      <td>118573.0</td>\n      <td>118573.0</td>\n      <td>5162700.0</td>\n      <td>2924.0</td>\n    </tr>\n    <tr>\n      <th>1</th>\n      <td>2020-01-03</td>\n      <td>118564.0</td>\n      <td>118792.0</td>\n      <td>117341.0</td>\n      <td>117707.0</td>\n      <td>117707.0</td>\n      <td>6834500.0</td>\n      <td>1451.0</td>\n    </tr>\n    <tr>\n      <th>2</th>\n      <td>2020-01-06</td>\n      <td>117707.0</td>\n      <td>117707.0</td>\n      <td>116269.0</td>\n      <td>116878.0</td>\n      <td>116878.0</td>\n      <td>6570000.0</td>\n      <td>1438.0</td>\n    </tr>\n    <tr>\n      <th>3</th>\n      <td>2020-01-07</td>\n      <td>116872.0</td>\n      <td>117076.0</td>\n      <td>115965.0</td>\n      <td>116662.0</td>\n      <td>116662.0</td>\n      <td>4854100.0</td>\n      <td>1111.0</td>\n    </tr>\n    <tr>\n      <th>4</th>\n      <td>2020-01-08</td>\n      <td>116667.0</td>\n      <td>117335.0</td>\n      <td>115693.0</td>\n      <td>116247.0</td>\n      <td>116247.0</td>\n      <td>5910500.0</td>\n      <td>1642.0</td>\n    </tr>\n    <tr>\n      <th>...</th>\n      <td>...</td>\n      <td>...</td>\n      <td>...</td>\n      <td>...</td>\n      <td>...</td>\n      <td>...</td>\n      <td>...</td>\n      <td>...</td>\n    </tr>\n    <tr>\n      <th>182</th>\n      <td>2020-09-23</td>\n      <td>97294.0</td>\n      <td>97389.0</td>\n      <td>95728.0</td>\n      <td>95735.0</td>\n      <td>95735.0</td>\n      <td>8830700.0</td>\n      <td>1661.0</td>\n    </tr>\n    <tr>\n      <th>183</th>\n      <td>2020-09-24</td>\n      <td>95735.0</td>\n      <td>97955.0</td>\n      <td>95653.0</td>\n      <td>97012.0</td>\n      <td>97012.0</td>\n      <td>9331000.0</td>\n      <td>2302.0</td>\n    </tr>\n    <tr>\n      <th>184</th>\n      <td>2020-09-25</td>\n      <td>97011.0</td>\n      <td>97012.0</td>\n      <td>95632.0</td>\n      <td>96999.0</td>\n      <td>96999.0</td>\n      <td>7351100.0</td>\n      <td>1380.0</td>\n    </tr>\n    <tr>\n      <th>185</th>\n      <td>2020-09-28</td>\n      <td>97005.0</td>\n      <td>98314.0</td>\n      <td>94371.0</td>\n      <td>94666.0</td>\n      <td>94666.0</td>\n      <td>10508900.0</td>\n      <td>3943.0</td>\n    </tr>\n    <tr>\n      <th>186</th>\n      <td>2020-09-29</td>\n      <td>94665.0</td>\n      <td>95505.0</td>\n      <td>93408.0</td>\n      <td>93580.0</td>\n      <td>93580.0</td>\n      <td>8737200.0</td>\n      <td>2097.0</td>\n    </tr>\n  </tbody>\n</table>\n<p>187 rows × 8 columns</p>\n</div>"
     },
     "metadata": {},
     "execution_count": 25
    }
   ],
   "source": [
    "df"
   ]
  },
  {
   "cell_type": "code",
   "execution_count": 33,
   "metadata": {},
   "outputs": [],
   "source": [
    "df_trim1 = df.loc[df['Date'] < '2020-04-01'] # 1o trimestre\n",
    "df_trim2 = df.loc[(df['Date'] >= '2020-04-01') & (df['Date'] < '2020-07-01')] # 2º trimestre\n",
    "df_trim3 = df.loc[(df['Date'] >= '2020-07-01') & (df['Date'] < '2020-10-01')] # 3º trimestre"
   ]
  },
  {
   "cell_type": "code",
   "execution_count": 34,
   "metadata": {},
   "outputs": [],
   "source": [
    "import matplotlib.pyplot as plt"
   ]
  },
  {
   "cell_type": "code",
   "execution_count": 39,
   "metadata": {},
   "outputs": [
    {
     "output_type": "display_data",
     "data": {
      "text/plain": "<Figure size 1080x144 with 1 Axes>",
      "image/png": "[encoded data removed]"
     },
     "metadata": {
      "needs_background": "light"
     }
    }
   ],
   "source": [
    "# Gráfico do 1º Trimestre\n",
    "plt.figure(figsize=(15,2))\n",
    "plt.scatter(x='Date', y='Close', data=df_1trim)\n",
    "plt.title('Fechamento por data')\n",
    "plt.xlabel('Date')\n",
    "plt.ylabel('Close')\n",
    "plt.savefig('tri_1.png')"
   ]
  },
  {
   "cell_type": "code",
   "execution_count": 40,
   "metadata": {},
   "outputs": [
    {
     "output_type": "display_data",
     "data": {
      "text/plain": "<Figure size 1080x144 with 1 Axes>",
      "image/png": "[encoded data removed]"
     },
     "metadata": {
      "needs_background": "light"
     }
    }
   ],
   "source": [
    "# Gráfico do 2º Trimestre\n",
    "plt.figure(figsize=(15,2))\n",
    "plt.scatter(x='Date', y='Close', data=df_2trim)\n",
    "plt.title('Fechamento por data')\n",
    "plt.xlabel('Date')\n",
    "plt.ylabel('Close')\n",
    "plt.savefig('tri_2.png')"
   ]
  },
  {
   "cell_type": "code",
   "execution_count": 43,
   "metadata": {},
   "outputs": [],
   "source": [
    "def func_plot_trimestre(dataframe, trimestre):\n",
    "    plt.figure(figsize=(15,2))\n",
    "    plt.scatter(x='Date', y='Close', data=dataframe)\n",
    "    plt.title('Fechamento por data')\n",
    "    plt.xlabel('Date')\n",
    "    plt.ylabel('Close')\n",
    "    plt.savefig('tri_' + str(trimestre) + '.png')\n",
    "    return plt.show\n"
   ]
  },
  {
   "cell_type": "code",
   "execution_count": 47,
   "metadata": {},
   "outputs": [
    {
     "output_type": "execute_result",
     "data": {
      "text/plain": [
       "<function matplotlib.pyplot.show(*args, **kw)>"
      ]
     },
     "metadata": {},
     "execution_count": 47
    },
    {
     "output_type": "display_data",
     "data": {
      "text/plain": "<Figure size 1080x144 with 1 Axes>",
      "image/png": "[encoded data removed]"
     },
     "metadata": {
      "needs_background": "light"
     }
    }
   ],
   "source": [
    "func_plot_trimestre(df_trim1, 1)"
   ]
  },
  {
   "cell_type": "code",
   "execution_count": 48,
   "metadata": {},
   "outputs": [
    {
     "output_type": "execute_result",
     "data": {
      "text/plain": [
       "<function matplotlib.pyplot.show(*args, **kw)>"
      ]
     },
     "metadata": {},
     "execution_count": 48
    },
    {
     "output_type": "display_data",
     "data": {
      "text/plain": "<Figure size 1080x144 with 1 Axes>",
      "image/png": "[encoded data removed]"
     },
     "metadata": {
      "needs_background": "light"
     }
    }
   ],
   "source": [
    "func_plot_trimestre(df_trim2, 2)"
   ]
  },
  {
   "cell_type": "code",
   "execution_count": 49,
   "metadata": {},
   "outputs": [
    {
     "output_type": "execute_result",
     "data": {
      "text/plain": [
       "<function matplotlib.pyplot.show(*args, **kw)>"
      ]
     },
     "metadata": {},
     "execution_count": 49
    },
    {
     "output_type": "display_data",
     "data": {
      "text/plain": "<Figure size 1080x144 with 1 Axes>",
      "image/png": "[encoded data removed]"
     },
     "metadata": {
      "needs_background": "light"
     }
    }
   ],
   "source": [
    "func_plot_trimestre(df_trim3, 3)"
   ]
  },
  {
   "cell_type": "code",
   "execution_count": null,
   "metadata": {},
   "outputs": [],
   "source": []
  },
  {
   "cell_type": "code",
   "execution_count": 27,
   "metadata": {},
   "outputs": [],
   "source": [
    "# Ou poderíamos inserir no dataframe os períodos - APAGAR\n",
    "df.loc[df['Date'] < '2020-04-01', 'trimestre'] = 1\n",
    "df.loc[(df['Date'] >= '2020-04-01') & (df['Date'] < '2020-07-01'), 'trimestre'] = 2\n",
    "df.loc[(df['Date'] >= '2020-07-01') & (df['Date'] < '2020-10-01'), 'trimestre'] = 3\n",
    "df.loc[df['Date'] >= '2020-10-01', 'trimestre'] = 4"
   ]
  },
  {
   "cell_type": "code",
   "execution_count": 28,
   "metadata": {},
   "outputs": [],
   "source": [
    "import matplotlib.pyplot as plt"
   ]
  },
  {
   "cell_type": "code",
   "execution_count": null,
   "metadata": {},
   "outputs": [],
   "source": []
  },
  {
   "source": [
    "## 9) Calcule retas de tendência para cada um dos trimestres e insira elas nos gráficos feitos anteriormente. Deste vez, salve cada um dos gráficos num arquivo \"tri_x_reg.png\", onde x é o trimestre em questão.\n",
    "\n",
    "Observação: faça\n",
    "\n",
    "df['Close'].fillna(method='ffill')  \n",
    "para preencher dados faltantes com o valor anterior. Isso vai ser necessário para calcular a reta de tendência.\n",
    "  \n",
    "Sugestão/desafio: se você tiver feito a função para automatizar a criação dos gráficos no exercício anterior, tente incrementar ela para também calcular e plotar a linha de tendência."
   ],
   "cell_type": "markdown",
   "metadata": {}
  },
  {
   "cell_type": "code",
   "execution_count": 50,
   "metadata": {},
   "outputs": [
    {
     "output_type": "stream",
     "name": "stdout",
     "text": [
      "<class 'pandas.core.frame.DataFrame'>\nRangeIndex: 187 entries, 0 to 186\nData columns (total 8 columns):\n #   Column     Non-Null Count  Dtype         \n---  ------     --------------  -----         \n 0   Date       187 non-null    datetime64[ns]\n 1   Open       186 non-null    float64       \n 2   High       186 non-null    float64       \n 3   Low        186 non-null    float64       \n 4   Close      186 non-null    float64       \n 5   Adj Close  186 non-null    float64       \n 6   Volume     186 non-null    float64       \n 7   amplitude  186 non-null    float64       \ndtypes: datetime64[ns](1), float64(7)\nmemory usage: 11.8 KB\n"
     ]
    }
   ],
   "source": [
    "df.info()"
   ]
  },
  {
   "cell_type": "code",
   "execution_count": 51,
   "metadata": {},
   "outputs": [
    {
     "output_type": "execute_result",
     "data": {
      "text/plain": [
       "Date         0\n",
       "Open         1\n",
       "High         1\n",
       "Low          1\n",
       "Close        1\n",
       "Adj Close    1\n",
       "Volume       1\n",
       "amplitude    1\n",
       "dtype: int64"
      ]
     },
     "metadata": {},
     "execution_count": 51
    }
   ],
   "source": [
    "# procurar valores faltantes\n",
    "df.isna().sum()"
   ]
  },
  {
   "cell_type": "code",
   "execution_count": 52,
   "metadata": {},
   "outputs": [
    {
     "output_type": "execute_result",
     "data": {
      "text/plain": [
       "         Date  Open  High  Low  Close  Adj Close  Volume  amplitude\n",
       "37 2020-02-26   NaN   NaN  NaN    NaN        NaN     NaN        NaN"
      ],
      "text/html": "<div>\n<style scoped>\n    .dataframe tbody tr th:only-of-type {\n        vertical-align: middle;\n    }\n\n    .dataframe tbody tr th {\n        vertical-align: top;\n    }\n\n    .dataframe thead th {\n        text-align: right;\n    }\n</style>\n<table border=\"1\" class=\"dataframe\">\n  <thead>\n    <tr style=\"text-align: right;\">\n      <th></th>\n      <th>Date</th>\n      <th>Open</th>\n      <th>High</th>\n      <th>Low</th>\n      <th>Close</th>\n      <th>Adj Close</th>\n      <th>Volume</th>\n      <th>amplitude</th>\n    </tr>\n  </thead>\n  <tbody>\n    <tr>\n      <th>37</th>\n      <td>2020-02-26</td>\n      <td>NaN</td>\n      <td>NaN</td>\n      <td>NaN</td>\n      <td>NaN</td>\n      <td>NaN</td>\n      <td>NaN</td>\n      <td>NaN</td>\n    </tr>\n  </tbody>\n</table>\n</div>"
     },
     "metadata": {},
     "execution_count": 52
    }
   ],
   "source": [
    "# Localizar onde o valor é nulo\n",
    "df.loc[df['Close'].isnull()] # NaN . Not a number"
   ]
  },
  {
   "cell_type": "code",
   "execution_count": 63,
   "metadata": {},
   "outputs": [],
   "source": [
    "# Corrigindo os valores faltantes\n",
    "df['Close'] = df['Close'].fillna(method='ffill') # preenche os valores nan ffill: propagate last valid observation forward to next valid"
   ]
  },
  {
   "cell_type": "code",
   "execution_count": 64,
   "metadata": {},
   "outputs": [],
   "source": [
    "df_trim1 = df.loc[df['Date'] < '2020-04-01'] # 1o trimestre\n",
    "df_trim2 = df.loc[(df['Date'] >= '2020-04-01') & (df['Date'] < '2020-07-01')] # 2º trimestre\n",
    "df_trim3 = df.loc[(df['Date'] >= '2020-07-01') & (df['Date'] < '2020-10-01')] # 3º trimestre"
   ]
  },
  {
   "cell_type": "code",
   "execution_count": 75,
   "metadata": {},
   "outputs": [
    {
     "output_type": "display_data",
     "data": {
      "text/plain": "<Figure size 432x288 with 1 Axes>",
      "image/svg+xml": "<?xml version=\"1.0\" encoding=\"utf-8\" standalone=\"no\"?>\r\n<!DOCTYPE svg PUBLIC \"-//W3C//DTD SVG 1.1//EN\"\r\n  \"http://www.w3.org/Graphics/SVG/1.1/DTD/svg11.dtd\">\r\n<!-- Created with matplotlib (https://matplotlib.org/) -->\r\n<svg height=\"248.518125pt\" version=\"1.1\" viewBox=\"0 0 394.375 248.518125\" width=\"394.375pt\" xmlns=\"http://www.w3.org/2000/svg\" xmlns:xlink=\"http://www.w3.org/1999/xlink\">\r\n <defs>\r\n  <style type=\"text/css\">\r\n*{stroke-linecap:butt;stroke-linejoin:round;}\r\n  </style>\r\n </defs>\r\n <g id=\"figure_1\">\r\n  <g id=\"patch_1\">\r\n   <path d=\"M 0 248.518125 \r\nL 394.375 248.518125 \r\nL 394.375 0 \r\nL 0 0 \r\nz\r\n\" style=\"fill:none;\"/>\r\n  </g>\r\n  <g id=\"axes_1\">\r\n   <g id=\"patch_2\">\r\n    <path d=\"M 52.375 224.64 \r\nL 387.175 224.64 \r\nL 387.175 7.2 \r\nL 52.375 7.2 \r\nz\r\n\" style=\"fill:#ffffff;\"/>\r\n   </g>\r\n   <g id=\"matplotlib.axis_1\">\r\n    <g id=\"xtick_1\">\r\n     <g id=\"line2d_1\">\r\n      <defs>\r\n       <path d=\"M 0 0 \r\nL 0 3.5 \r\n\" id=\"mbb0ea5f1be\" style=\"stroke:#000000;stroke-width:0.8;\"/>\r\n      </defs>\r\n      <g>\r\n       <use style=\"stroke:#000000;stroke-width:0.8;\" x=\"67.593182\" xlink:href=\"#mbb0ea5f1be\" y=\"224.64\"/>\r\n      </g>\r\n     </g>\r\n     <g id=\"text_1\">\r\n      <!-- 0 -->\r\n      <defs>\r\n       <path d=\"M 31.78125 66.40625 \r\nQ 24.171875 66.40625 20.328125 58.90625 \r\nQ 16.5 51.421875 16.5 36.375 \r\nQ 16.5 21.390625 20.328125 13.890625 \r\nQ 24.171875 6.390625 31.78125 6.390625 \r\nQ 39.453125 6.390625 43.28125 13.890625 \r\nQ 47.125 21.390625 47.125 36.375 \r\nQ 47.125 51.421875 43.28125 58.90625 \r\nQ 39.453125 66.40625 31.78125 66.40625 \r\nz\r\nM 31.78125 74.21875 \r\nQ 44.046875 74.21875 50.515625 64.515625 \r\nQ 56.984375 54.828125 56.984375 36.375 \r\nQ 56.984375 17.96875 50.515625 8.265625 \r\nQ 44.046875 -1.421875 31.78125 -1.421875 \r\nQ 19.53125 -1.421875 13.0625 8.265625 \r\nQ 6.59375 17.96875 6.59375 36.375 \r\nQ 6.59375 54.828125 13.0625 64.515625 \r\nQ 19.53125 74.21875 31.78125 74.21875 \r\nz\r\n\" id=\"DejaVuSans-48\"/>\r\n      </defs>\r\n      <g transform=\"translate(64.411932 239.238438)scale(0.1 -0.1)\">\r\n       <use xlink:href=\"#DejaVuSans-48\"/>\r\n      </g>\r\n     </g>\r\n    </g>\r\n    <g id=\"xtick_2\">\r\n     <g id=\"line2d_2\">\r\n      <g>\r\n       <use style=\"stroke:#000000;stroke-width:0.8;\" x=\"108.502273\" xlink:href=\"#mbb0ea5f1be\" y=\"224.64\"/>\r\n      </g>\r\n     </g>\r\n     <g id=\"text_2\">\r\n      <!-- 25 -->\r\n      <defs>\r\n       <path d=\"M 19.1875 8.296875 \r\nL 53.609375 8.296875 \r\nL 53.609375 0 \r\nL 7.328125 0 \r\nL 7.328125 8.296875 \r\nQ 12.9375 14.109375 22.625 23.890625 \r\nQ 32.328125 33.6875 34.8125 36.53125 \r\nQ 39.546875 41.84375 41.421875 45.53125 \r\nQ 43.3125 49.21875 43.3125 52.78125 \r\nQ 43.3125 58.59375 39.234375 62.25 \r\nQ 35.15625 65.921875 28.609375 65.921875 \r\nQ 23.96875 65.921875 18.8125 64.3125 \r\nQ 13.671875 62.703125 7.8125 59.421875 \r\nL 7.8125 69.390625 \r\nQ 13.765625 71.78125 18.9375 73 \r\nQ 24.125 74.21875 28.421875 74.21875 \r\nQ 39.75 74.21875 46.484375 68.546875 \r\nQ 53.21875 62.890625 53.21875 53.421875 \r\nQ 53.21875 48.921875 51.53125 44.890625 \r\nQ 49.859375 40.875 45.40625 35.40625 \r\nQ 44.1875 33.984375 37.640625 27.21875 \r\nQ 31.109375 20.453125 19.1875 8.296875 \r\nz\r\n\" id=\"DejaVuSans-50\"/>\r\n       <path d=\"M 10.796875 72.90625 \r\nL 49.515625 72.90625 \r\nL 49.515625 64.59375 \r\nL 19.828125 64.59375 \r\nL 19.828125 46.734375 \r\nQ 21.96875 47.46875 24.109375 47.828125 \r\nQ 26.265625 48.1875 28.421875 48.1875 \r\nQ 40.625 48.1875 47.75 41.5 \r\nQ 54.890625 34.8125 54.890625 23.390625 \r\nQ 54.890625 11.625 47.5625 5.09375 \r\nQ 40.234375 -1.421875 26.90625 -1.421875 \r\nQ 22.3125 -1.421875 17.546875 -0.640625 \r\nQ 12.796875 0.140625 7.71875 1.703125 \r\nL 7.71875 11.625 \r\nQ 12.109375 9.234375 16.796875 8.0625 \r\nQ 21.484375 6.890625 26.703125 6.890625 \r\nQ 35.15625 6.890625 40.078125 11.328125 \r\nQ 45.015625 15.765625 45.015625 23.390625 \r\nQ 45.015625 31 40.078125 35.4375 \r\nQ 35.15625 39.890625 26.703125 39.890625 \r\nQ 22.75 39.890625 18.8125 39.015625 \r\nQ 14.890625 38.140625 10.796875 36.28125 \r\nz\r\n\" id=\"DejaVuSans-53\"/>\r\n      </defs>\r\n      <g transform=\"translate(102.139773 239.238438)scale(0.1 -0.1)\">\r\n       <use xlink:href=\"#DejaVuSans-50\"/>\r\n       <use x=\"63.623047\" xlink:href=\"#DejaVuSans-53\"/>\r\n      </g>\r\n     </g>\r\n    </g>\r\n    <g id=\"xtick_3\">\r\n     <g id=\"line2d_3\">\r\n      <g>\r\n       <use style=\"stroke:#000000;stroke-width:0.8;\" x=\"149.411364\" xlink:href=\"#mbb0ea5f1be\" y=\"224.64\"/>\r\n      </g>\r\n     </g>\r\n     <g id=\"text_3\">\r\n      <!-- 50 -->\r\n      <g transform=\"translate(143.048864 239.238438)scale(0.1 -0.1)\">\r\n       <use xlink:href=\"#DejaVuSans-53\"/>\r\n       <use x=\"63.623047\" xlink:href=\"#DejaVuSans-48\"/>\r\n      </g>\r\n     </g>\r\n    </g>\r\n    <g id=\"xtick_4\">\r\n     <g id=\"line2d_4\">\r\n      <g>\r\n       <use style=\"stroke:#000000;stroke-width:0.8;\" x=\"190.320455\" xlink:href=\"#mbb0ea5f1be\" y=\"224.64\"/>\r\n      </g>\r\n     </g>\r\n     <g id=\"text_4\">\r\n      <!-- 75 -->\r\n      <defs>\r\n       <path d=\"M 8.203125 72.90625 \r\nL 55.078125 72.90625 \r\nL 55.078125 68.703125 \r\nL 28.609375 0 \r\nL 18.3125 0 \r\nL 43.21875 64.59375 \r\nL 8.203125 64.59375 \r\nz\r\n\" id=\"DejaVuSans-55\"/>\r\n      </defs>\r\n      <g transform=\"translate(183.957955 239.238438)scale(0.1 -0.1)\">\r\n       <use xlink:href=\"#DejaVuSans-55\"/>\r\n       <use x=\"63.623047\" xlink:href=\"#DejaVuSans-53\"/>\r\n      </g>\r\n     </g>\r\n    </g>\r\n    <g id=\"xtick_5\">\r\n     <g id=\"line2d_5\">\r\n      <g>\r\n       <use style=\"stroke:#000000;stroke-width:0.8;\" x=\"231.229545\" xlink:href=\"#mbb0ea5f1be\" y=\"224.64\"/>\r\n      </g>\r\n     </g>\r\n     <g id=\"text_5\">\r\n      <!-- 100 -->\r\n      <defs>\r\n       <path d=\"M 12.40625 8.296875 \r\nL 28.515625 8.296875 \r\nL 28.515625 63.921875 \r\nL 10.984375 60.40625 \r\nL 10.984375 69.390625 \r\nL 28.421875 72.90625 \r\nL 38.28125 72.90625 \r\nL 38.28125 8.296875 \r\nL 54.390625 8.296875 \r\nL 54.390625 0 \r\nL 12.40625 0 \r\nz\r\n\" id=\"DejaVuSans-49\"/>\r\n      </defs>\r\n      <g transform=\"translate(221.685795 239.238438)scale(0.1 -0.1)\">\r\n       <use xlink:href=\"#DejaVuSans-49\"/>\r\n       <use x=\"63.623047\" xlink:href=\"#DejaVuSans-48\"/>\r\n       <use x=\"127.246094\" xlink:href=\"#DejaVuSans-48\"/>\r\n      </g>\r\n     </g>\r\n    </g>\r\n    <g id=\"xtick_6\">\r\n     <g id=\"line2d_6\">\r\n      <g>\r\n       <use style=\"stroke:#000000;stroke-width:0.8;\" x=\"272.138636\" xlink:href=\"#mbb0ea5f1be\" y=\"224.64\"/>\r\n      </g>\r\n     </g>\r\n     <g id=\"text_6\">\r\n      <!-- 125 -->\r\n      <g transform=\"translate(262.594886 239.238438)scale(0.1 -0.1)\">\r\n       <use xlink:href=\"#DejaVuSans-49\"/>\r\n       <use x=\"63.623047\" xlink:href=\"#DejaVuSans-50\"/>\r\n       <use x=\"127.246094\" xlink:href=\"#DejaVuSans-53\"/>\r\n      </g>\r\n     </g>\r\n    </g>\r\n    <g id=\"xtick_7\">\r\n     <g id=\"line2d_7\">\r\n      <g>\r\n       <use style=\"stroke:#000000;stroke-width:0.8;\" x=\"313.047727\" xlink:href=\"#mbb0ea5f1be\" y=\"224.64\"/>\r\n      </g>\r\n     </g>\r\n     <g id=\"text_7\">\r\n      <!-- 150 -->\r\n      <g transform=\"translate(303.503977 239.238438)scale(0.1 -0.1)\">\r\n       <use xlink:href=\"#DejaVuSans-49\"/>\r\n       <use x=\"63.623047\" xlink:href=\"#DejaVuSans-53\"/>\r\n       <use x=\"127.246094\" xlink:href=\"#DejaVuSans-48\"/>\r\n      </g>\r\n     </g>\r\n    </g>\r\n    <g id=\"xtick_8\">\r\n     <g id=\"line2d_8\">\r\n      <g>\r\n       <use style=\"stroke:#000000;stroke-width:0.8;\" x=\"353.956818\" xlink:href=\"#mbb0ea5f1be\" y=\"224.64\"/>\r\n      </g>\r\n     </g>\r\n     <g id=\"text_8\">\r\n      <!-- 175 -->\r\n      <g transform=\"translate(344.413068 239.238438)scale(0.1 -0.1)\">\r\n       <use xlink:href=\"#DejaVuSans-49\"/>\r\n       <use x=\"63.623047\" xlink:href=\"#DejaVuSans-55\"/>\r\n       <use x=\"127.246094\" xlink:href=\"#DejaVuSans-53\"/>\r\n      </g>\r\n     </g>\r\n    </g>\r\n   </g>\r\n   <g id=\"matplotlib.axis_2\">\r\n    <g id=\"ytick_1\">\r\n     <g id=\"line2d_9\">\r\n      <defs>\r\n       <path d=\"M 0 0 \r\nL -3.5 0 \r\n\" id=\"mb7c9033228\" style=\"stroke:#000000;stroke-width:0.8;\"/>\r\n      </defs>\r\n      <g>\r\n       <use style=\"stroke:#000000;stroke-width:0.8;\" x=\"52.375\" xlink:href=\"#mb7c9033228\" y=\"210.954754\"/>\r\n      </g>\r\n     </g>\r\n     <g id=\"text_9\">\r\n      <!-- 93000 -->\r\n      <defs>\r\n       <path d=\"M 10.984375 1.515625 \r\nL 10.984375 10.5 \r\nQ 14.703125 8.734375 18.5 7.8125 \r\nQ 22.3125 6.890625 25.984375 6.890625 \r\nQ 35.75 6.890625 40.890625 13.453125 \r\nQ 46.046875 20.015625 46.78125 33.40625 \r\nQ 43.953125 29.203125 39.59375 26.953125 \r\nQ 35.25 24.703125 29.984375 24.703125 \r\nQ 19.046875 24.703125 12.671875 31.3125 \r\nQ 6.296875 37.9375 6.296875 49.421875 \r\nQ 6.296875 60.640625 12.9375 67.421875 \r\nQ 19.578125 74.21875 30.609375 74.21875 \r\nQ 43.265625 74.21875 49.921875 64.515625 \r\nQ 56.59375 54.828125 56.59375 36.375 \r\nQ 56.59375 19.140625 48.40625 8.859375 \r\nQ 40.234375 -1.421875 26.421875 -1.421875 \r\nQ 22.703125 -1.421875 18.890625 -0.6875 \r\nQ 15.09375 0.046875 10.984375 1.515625 \r\nz\r\nM 30.609375 32.421875 \r\nQ 37.25 32.421875 41.125 36.953125 \r\nQ 45.015625 41.5 45.015625 49.421875 \r\nQ 45.015625 57.28125 41.125 61.84375 \r\nQ 37.25 66.40625 30.609375 66.40625 \r\nQ 23.96875 66.40625 20.09375 61.84375 \r\nQ 16.21875 57.28125 16.21875 49.421875 \r\nQ 16.21875 41.5 20.09375 36.953125 \r\nQ 23.96875 32.421875 30.609375 32.421875 \r\nz\r\n\" id=\"DejaVuSans-57\"/>\r\n       <path d=\"M 40.578125 39.3125 \r\nQ 47.65625 37.796875 51.625 33 \r\nQ 55.609375 28.21875 55.609375 21.1875 \r\nQ 55.609375 10.40625 48.1875 4.484375 \r\nQ 40.765625 -1.421875 27.09375 -1.421875 \r\nQ 22.515625 -1.421875 17.65625 -0.515625 \r\nQ 12.796875 0.390625 7.625 2.203125 \r\nL 7.625 11.71875 \r\nQ 11.71875 9.328125 16.59375 8.109375 \r\nQ 21.484375 6.890625 26.8125 6.890625 \r\nQ 36.078125 6.890625 40.9375 10.546875 \r\nQ 45.796875 14.203125 45.796875 21.1875 \r\nQ 45.796875 27.640625 41.28125 31.265625 \r\nQ 36.765625 34.90625 28.71875 34.90625 \r\nL 20.21875 34.90625 \r\nL 20.21875 43.015625 \r\nL 29.109375 43.015625 \r\nQ 36.375 43.015625 40.234375 45.921875 \r\nQ 44.09375 48.828125 44.09375 54.296875 \r\nQ 44.09375 59.90625 40.109375 62.90625 \r\nQ 36.140625 65.921875 28.71875 65.921875 \r\nQ 24.65625 65.921875 20.015625 65.03125 \r\nQ 15.375 64.15625 9.8125 62.3125 \r\nL 9.8125 71.09375 \r\nQ 15.4375 72.65625 20.34375 73.4375 \r\nQ 25.25 74.21875 29.59375 74.21875 \r\nQ 40.828125 74.21875 47.359375 69.109375 \r\nQ 53.90625 64.015625 53.90625 55.328125 \r\nQ 53.90625 49.265625 50.4375 45.09375 \r\nQ 46.96875 40.921875 40.578125 39.3125 \r\nz\r\n\" id=\"DejaVuSans-51\"/>\r\n      </defs>\r\n      <g transform=\"translate(13.5625 214.753973)scale(0.1 -0.1)\">\r\n       <use xlink:href=\"#DejaVuSans-57\"/>\r\n       <use x=\"63.623047\" xlink:href=\"#DejaVuSans-51\"/>\r\n       <use x=\"127.246094\" xlink:href=\"#DejaVuSans-48\"/>\r\n       <use x=\"190.869141\" xlink:href=\"#DejaVuSans-48\"/>\r\n       <use x=\"254.492188\" xlink:href=\"#DejaVuSans-48\"/>\r\n      </g>\r\n     </g>\r\n    </g>\r\n    <g id=\"ytick_2\">\r\n     <g id=\"line2d_10\">\r\n      <g>\r\n       <use style=\"stroke:#000000;stroke-width:0.8;\" x=\"52.375\" xlink:href=\"#mb7c9033228\" y=\"182.511208\"/>\r\n      </g>\r\n     </g>\r\n     <g id=\"text_10\">\r\n      <!-- 94000 -->\r\n      <defs>\r\n       <path d=\"M 37.796875 64.3125 \r\nL 12.890625 25.390625 \r\nL 37.796875 25.390625 \r\nz\r\nM 35.203125 72.90625 \r\nL 47.609375 72.90625 \r\nL 47.609375 25.390625 \r\nL 58.015625 25.390625 \r\nL 58.015625 17.1875 \r\nL 47.609375 17.1875 \r\nL 47.609375 0 \r\nL 37.796875 0 \r\nL 37.796875 17.1875 \r\nL 4.890625 17.1875 \r\nL 4.890625 26.703125 \r\nz\r\n\" id=\"DejaVuSans-52\"/>\r\n      </defs>\r\n      <g transform=\"translate(13.5625 186.310427)scale(0.1 -0.1)\">\r\n       <use xlink:href=\"#DejaVuSans-57\"/>\r\n       <use x=\"63.623047\" xlink:href=\"#DejaVuSans-52\"/>\r\n       <use x=\"127.246094\" xlink:href=\"#DejaVuSans-48\"/>\r\n       <use x=\"190.869141\" xlink:href=\"#DejaVuSans-48\"/>\r\n       <use x=\"254.492188\" xlink:href=\"#DejaVuSans-48\"/>\r\n      </g>\r\n     </g>\r\n    </g>\r\n    <g id=\"ytick_3\">\r\n     <g id=\"line2d_11\">\r\n      <g>\r\n       <use style=\"stroke:#000000;stroke-width:0.8;\" x=\"52.375\" xlink:href=\"#mb7c9033228\" y=\"154.067662\"/>\r\n      </g>\r\n     </g>\r\n     <g id=\"text_11\">\r\n      <!-- 95000 -->\r\n      <g transform=\"translate(13.5625 157.866881)scale(0.1 -0.1)\">\r\n       <use xlink:href=\"#DejaVuSans-57\"/>\r\n       <use x=\"63.623047\" xlink:href=\"#DejaVuSans-53\"/>\r\n       <use x=\"127.246094\" xlink:href=\"#DejaVuSans-48\"/>\r\n       <use x=\"190.869141\" xlink:href=\"#DejaVuSans-48\"/>\r\n       <use x=\"254.492188\" xlink:href=\"#DejaVuSans-48\"/>\r\n      </g>\r\n     </g>\r\n    </g>\r\n    <g id=\"ytick_4\">\r\n     <g id=\"line2d_12\">\r\n      <g>\r\n       <use style=\"stroke:#000000;stroke-width:0.8;\" x=\"52.375\" xlink:href=\"#mb7c9033228\" y=\"125.624116\"/>\r\n      </g>\r\n     </g>\r\n     <g id=\"text_12\">\r\n      <!-- 96000 -->\r\n      <defs>\r\n       <path d=\"M 33.015625 40.375 \r\nQ 26.375 40.375 22.484375 35.828125 \r\nQ 18.609375 31.296875 18.609375 23.390625 \r\nQ 18.609375 15.53125 22.484375 10.953125 \r\nQ 26.375 6.390625 33.015625 6.390625 \r\nQ 39.65625 6.390625 43.53125 10.953125 \r\nQ 47.40625 15.53125 47.40625 23.390625 \r\nQ 47.40625 31.296875 43.53125 35.828125 \r\nQ 39.65625 40.375 33.015625 40.375 \r\nz\r\nM 52.59375 71.296875 \r\nL 52.59375 62.3125 \r\nQ 48.875 64.0625 45.09375 64.984375 \r\nQ 41.3125 65.921875 37.59375 65.921875 \r\nQ 27.828125 65.921875 22.671875 59.328125 \r\nQ 17.53125 52.734375 16.796875 39.40625 \r\nQ 19.671875 43.65625 24.015625 45.921875 \r\nQ 28.375 48.1875 33.59375 48.1875 \r\nQ 44.578125 48.1875 50.953125 41.515625 \r\nQ 57.328125 34.859375 57.328125 23.390625 \r\nQ 57.328125 12.15625 50.6875 5.359375 \r\nQ 44.046875 -1.421875 33.015625 -1.421875 \r\nQ 20.359375 -1.421875 13.671875 8.265625 \r\nQ 6.984375 17.96875 6.984375 36.375 \r\nQ 6.984375 53.65625 15.1875 63.9375 \r\nQ 23.390625 74.21875 37.203125 74.21875 \r\nQ 40.921875 74.21875 44.703125 73.484375 \r\nQ 48.484375 72.75 52.59375 71.296875 \r\nz\r\n\" id=\"DejaVuSans-54\"/>\r\n      </defs>\r\n      <g transform=\"translate(13.5625 129.423335)scale(0.1 -0.1)\">\r\n       <use xlink:href=\"#DejaVuSans-57\"/>\r\n       <use x=\"63.623047\" xlink:href=\"#DejaVuSans-54\"/>\r\n       <use x=\"127.246094\" xlink:href=\"#DejaVuSans-48\"/>\r\n       <use x=\"190.869141\" xlink:href=\"#DejaVuSans-48\"/>\r\n       <use x=\"254.492188\" xlink:href=\"#DejaVuSans-48\"/>\r\n      </g>\r\n     </g>\r\n    </g>\r\n    <g id=\"ytick_5\">\r\n     <g id=\"line2d_13\">\r\n      <g>\r\n       <use style=\"stroke:#000000;stroke-width:0.8;\" x=\"52.375\" xlink:href=\"#mb7c9033228\" y=\"97.180571\"/>\r\n      </g>\r\n     </g>\r\n     <g id=\"text_13\">\r\n      <!-- 97000 -->\r\n      <g transform=\"translate(13.5625 100.979789)scale(0.1 -0.1)\">\r\n       <use xlink:href=\"#DejaVuSans-57\"/>\r\n       <use x=\"63.623047\" xlink:href=\"#DejaVuSans-55\"/>\r\n       <use x=\"127.246094\" xlink:href=\"#DejaVuSans-48\"/>\r\n       <use x=\"190.869141\" xlink:href=\"#DejaVuSans-48\"/>\r\n       <use x=\"254.492188\" xlink:href=\"#DejaVuSans-48\"/>\r\n      </g>\r\n     </g>\r\n    </g>\r\n    <g id=\"ytick_6\">\r\n     <g id=\"line2d_14\">\r\n      <g>\r\n       <use style=\"stroke:#000000;stroke-width:0.8;\" x=\"52.375\" xlink:href=\"#mb7c9033228\" y=\"68.737025\"/>\r\n      </g>\r\n     </g>\r\n     <g id=\"text_14\">\r\n      <!-- 98000 -->\r\n      <defs>\r\n       <path d=\"M 31.78125 34.625 \r\nQ 24.75 34.625 20.71875 30.859375 \r\nQ 16.703125 27.09375 16.703125 20.515625 \r\nQ 16.703125 13.921875 20.71875 10.15625 \r\nQ 24.75 6.390625 31.78125 6.390625 \r\nQ 38.8125 6.390625 42.859375 10.171875 \r\nQ 46.921875 13.96875 46.921875 20.515625 \r\nQ 46.921875 27.09375 42.890625 30.859375 \r\nQ 38.875 34.625 31.78125 34.625 \r\nz\r\nM 21.921875 38.8125 \r\nQ 15.578125 40.375 12.03125 44.71875 \r\nQ 8.5 49.078125 8.5 55.328125 \r\nQ 8.5 64.0625 14.71875 69.140625 \r\nQ 20.953125 74.21875 31.78125 74.21875 \r\nQ 42.671875 74.21875 48.875 69.140625 \r\nQ 55.078125 64.0625 55.078125 55.328125 \r\nQ 55.078125 49.078125 51.53125 44.71875 \r\nQ 48 40.375 41.703125 38.8125 \r\nQ 48.828125 37.15625 52.796875 32.3125 \r\nQ 56.78125 27.484375 56.78125 20.515625 \r\nQ 56.78125 9.90625 50.3125 4.234375 \r\nQ 43.84375 -1.421875 31.78125 -1.421875 \r\nQ 19.734375 -1.421875 13.25 4.234375 \r\nQ 6.78125 9.90625 6.78125 20.515625 \r\nQ 6.78125 27.484375 10.78125 32.3125 \r\nQ 14.796875 37.15625 21.921875 38.8125 \r\nz\r\nM 18.3125 54.390625 \r\nQ 18.3125 48.734375 21.84375 45.5625 \r\nQ 25.390625 42.390625 31.78125 42.390625 \r\nQ 38.140625 42.390625 41.71875 45.5625 \r\nQ 45.3125 48.734375 45.3125 54.390625 \r\nQ 45.3125 60.0625 41.71875 63.234375 \r\nQ 38.140625 66.40625 31.78125 66.40625 \r\nQ 25.390625 66.40625 21.84375 63.234375 \r\nQ 18.3125 60.0625 18.3125 54.390625 \r\nz\r\n\" id=\"DejaVuSans-56\"/>\r\n      </defs>\r\n      <g transform=\"translate(13.5625 72.536244)scale(0.1 -0.1)\">\r\n       <use xlink:href=\"#DejaVuSans-57\"/>\r\n       <use x=\"63.623047\" xlink:href=\"#DejaVuSans-56\"/>\r\n       <use x=\"127.246094\" xlink:href=\"#DejaVuSans-48\"/>\r\n       <use x=\"190.869141\" xlink:href=\"#DejaVuSans-48\"/>\r\n       <use x=\"254.492188\" xlink:href=\"#DejaVuSans-48\"/>\r\n      </g>\r\n     </g>\r\n    </g>\r\n    <g id=\"ytick_7\">\r\n     <g id=\"line2d_15\">\r\n      <g>\r\n       <use style=\"stroke:#000000;stroke-width:0.8;\" x=\"52.375\" xlink:href=\"#mb7c9033228\" y=\"40.293479\"/>\r\n      </g>\r\n     </g>\r\n     <g id=\"text_15\">\r\n      <!-- 99000 -->\r\n      <g transform=\"translate(13.5625 44.092698)scale(0.1 -0.1)\">\r\n       <use xlink:href=\"#DejaVuSans-57\"/>\r\n       <use x=\"63.623047\" xlink:href=\"#DejaVuSans-57\"/>\r\n       <use x=\"127.246094\" xlink:href=\"#DejaVuSans-48\"/>\r\n       <use x=\"190.869141\" xlink:href=\"#DejaVuSans-48\"/>\r\n       <use x=\"254.492188\" xlink:href=\"#DejaVuSans-48\"/>\r\n      </g>\r\n     </g>\r\n    </g>\r\n    <g id=\"ytick_8\">\r\n     <g id=\"line2d_16\">\r\n      <g>\r\n       <use style=\"stroke:#000000;stroke-width:0.8;\" x=\"52.375\" xlink:href=\"#mb7c9033228\" y=\"11.849933\"/>\r\n      </g>\r\n     </g>\r\n     <g id=\"text_16\">\r\n      <!-- 100000 -->\r\n      <g transform=\"translate(7.2 15.649152)scale(0.1 -0.1)\">\r\n       <use xlink:href=\"#DejaVuSans-49\"/>\r\n       <use x=\"63.623047\" xlink:href=\"#DejaVuSans-48\"/>\r\n       <use x=\"127.246094\" xlink:href=\"#DejaVuSans-48\"/>\r\n       <use x=\"190.869141\" xlink:href=\"#DejaVuSans-48\"/>\r\n       <use x=\"254.492188\" xlink:href=\"#DejaVuSans-48\"/>\r\n       <use x=\"318.115234\" xlink:href=\"#DejaVuSans-48\"/>\r\n      </g>\r\n     </g>\r\n    </g>\r\n   </g>\r\n   <g id=\"line2d_17\">\r\n    <path clip-path=\"url(#p4f1be57bdf)\" d=\"M 67.593182 17.083636 \r\nL 371.956818 214.756364 \r\nL 371.956818 214.756364 \r\n\" style=\"fill:none;stroke:#ff0000;stroke-linecap:square;stroke-width:1.5;\"/>\r\n   </g>\r\n   <g id=\"patch_3\">\r\n    <path d=\"M 52.375 224.64 \r\nL 52.375 7.2 \r\n\" style=\"fill:none;stroke:#000000;stroke-linecap:square;stroke-linejoin:miter;stroke-width:0.8;\"/>\r\n   </g>\r\n   <g id=\"patch_4\">\r\n    <path d=\"M 387.175 224.64 \r\nL 387.175 7.2 \r\n\" style=\"fill:none;stroke:#000000;stroke-linecap:square;stroke-linejoin:miter;stroke-width:0.8;\"/>\r\n   </g>\r\n   <g id=\"patch_5\">\r\n    <path d=\"M 52.375 224.64 \r\nL 387.175 224.64 \r\n\" style=\"fill:none;stroke:#000000;stroke-linecap:square;stroke-linejoin:miter;stroke-width:0.8;\"/>\r\n   </g>\r\n   <g id=\"patch_6\">\r\n    <path d=\"M 52.375 7.2 \r\nL 387.175 7.2 \r\n\" style=\"fill:none;stroke:#000000;stroke-linecap:square;stroke-linejoin:miter;stroke-width:0.8;\"/>\r\n   </g>\r\n  </g>\r\n </g>\r\n <defs>\r\n  <clipPath id=\"p4f1be57bdf\">\r\n   <rect height=\"217.44\" width=\"334.8\" x=\"52.375\" y=\"7.2\"/>\r\n  </clipPath>\r\n </defs>\r\n</svg>\r\n",
      "image/png": "[encoded data removed]"
     },
     "metadata": {
      "needs_background": "light"
     }
    }
   ],
   "source": [
    "# Linha de tendência usando o scipy\n",
    "from scipy.stats import linregress\n",
    "\n",
    "x = df.index\n",
    "y = df['Close'] # ou y=df.close\n",
    "\n",
    "stats = linregress(x, y)\n",
    "m = stats.slope # inclinação ou coeficiente angular da reta \n",
    "b = stats.intercept # coeficiente linear ou \"onde a curva intercepta o eixo y\"\n",
    "# equação da reta: y = mx + b\n",
    "\n",
    "plt.plot(x, m*x + b, color='red')\n",
    "plt.show()"
   ]
  },
  {
   "cell_type": "code",
   "execution_count": 69,
   "metadata": {},
   "outputs": [],
   "source": [
    "# Usando como função\n",
    "def func_plot_tendencia(dataframe, trimestre):\n",
    "    x = dataframe.index\n",
    "    y = dataframe['Close'] # ou y=df.close\n",
    "\n",
    "    stats = linregress(x, y)\n",
    "    m = stats.slope # inclinação ou coeficiente angular da reta \n",
    "    b = stats.intercept # coeficiente linear ou \"onde a curva intercepta o eixo y\"\n",
    "\n",
    "    plt.figure(figsize=(15,2))\n",
    "    plt.scatter(x = x , y= 'Close', data=dataframe)\n",
    "    plt.plot(x, m*x + b, color='red')\n",
    "    plt.title('Valor do fechamento no trimestre '+ str(trimestre))\n",
    "    plt.xlabel('Date')\n",
    "    plt.ylabel('Close')\n",
    "\n",
    "    plt.savefig('tri_' + str(trimestre) + '_reg.png')\n",
    "    return plt.show()"
   ]
  },
  {
   "cell_type": "code",
   "execution_count": 70,
   "metadata": {},
   "outputs": [
    {
     "output_type": "display_data",
     "data": {
      "text/plain": "<Figure size 1080x144 with 1 Axes>",
      "image/png": "[encoded data removed]"
     },
     "metadata": {
      "needs_background": "light"
     }
    }
   ],
   "source": [
    "# Dados para o 1ª Trimestre\n",
    "\n",
    "func_plot_tendencia(df_trim1, 1)"
   ]
  },
  {
   "cell_type": "code",
   "execution_count": 71,
   "metadata": {},
   "outputs": [
    {
     "output_type": "display_data",
     "data": {
      "text/plain": "<Figure size 1080x144 with 1 Axes>",
      "image/png": "[encoded data removed]"
     },
     "metadata": {
      "needs_background": "light"
     }
    }
   ],
   "source": [
    "# Dados para Trimestre 2\n",
    "\n",
    "func_plot_tendencia(df_trim2, 2)"
   ]
  },
  {
   "cell_type": "code",
   "execution_count": 72,
   "metadata": {},
   "outputs": [
    {
     "output_type": "display_data",
     "data": {
      "text/plain": "<Figure size 1080x144 with 1 Axes>",
      "image/png": "[encoded data removed]"
     },
     "metadata": {
      "needs_background": "light"
     }
    }
   ],
   "source": [
    "# Dados para o Trimestre 3\n",
    "\n",
    "func_plot_tendencia(df_trim3, 3)"
   ]
  },
  {
   "cell_type": "code",
   "execution_count": null,
   "metadata": {},
   "outputs": [],
   "source": []
  }
 ]
}